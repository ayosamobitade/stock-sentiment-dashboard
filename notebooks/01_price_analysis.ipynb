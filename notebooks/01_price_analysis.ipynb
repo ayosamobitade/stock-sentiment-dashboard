{
 "cells": [
  {
   "cell_type": "code",
   "execution_count": null,
   "metadata": {},
   "outputs": [],
   "source": [
    "# Purpose: Analyze historical stock price data to visualize trends and calculate key metrics.\n",
    "\n",
    "# Import necessary libraries\n",
    "import pandas as pd\n",
    "import matplotlib.pyplot as plt\n",
    "import seaborn as sns\n",
    "from typing import Tuple\n",
    "\n",
    "# Set plotting style for better visuals\n",
    "sns.set_style(\"whitegrid\")\n",
    "\n",
    "\n",
    "def load_stock_data(filepath: str) -> pd.DataFrame:\n",
    "    \"\"\"\n",
    "    Load historical stock price data from a CSV file.\n",
    "\n",
    "    Args:\n",
    "        filepath (str): Path to the CSV file containing stock data.\n",
    "\n",
    "    Returns:\n",
    "        pd.DataFrame: DataFrame with parsed dates and sorted by date ascending.\n",
    "    \"\"\"\n",
    "    df = pd.read_csv(filepath, parse_dates=[\"Date\"])\n",
    "    df.sort_values(\"Date\", inplace=True)\n",
    "    df.reset_index(drop=True, inplace=True)\n",
    "    return df\n",
    "\n"
   ]
  }
 ],
 "metadata": {
  "language_info": {
   "name": "python"
  }
 },
 "nbformat": 4,
 "nbformat_minor": 2
}
